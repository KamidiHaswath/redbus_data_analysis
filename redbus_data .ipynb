{
 "cells": [
  {
   "cell_type": "code",
   "execution_count": 31,
   "id": "dd57a0a1-66b7-4170-9e3e-b8f0657a6d43",
   "metadata": {},
   "outputs": [],
   "source": [
    "import pandas as pd\n",
    "import numpy as np\n",
    "from lightgbm import LGBMRegressor\n",
    "from sklearn.model_selection import train_test_split\n",
    "from sklearn.metrics import mean_squared_error\n",
    "import matplotlib.pyplot as plt\n",
    "import warnings\n",
    "warnings.filterwarnings('ignore')"
   ]
  },
  {
   "cell_type": "code",
   "execution_count": 29,
   "id": "b2dee0f8-6e89-4524-a49e-c39aab3929c9",
   "metadata": {},
   "outputs": [
    {
     "name": "stdout",
     "output_type": "stream",
     "text": [
      "Collecting lightgbm\n",
      "  Downloading lightgbm-4.6.0-py3-none-win_amd64.whl.metadata (17 kB)\n",
      "Requirement already satisfied: numpy>=1.17.0 in c:\\users\\haswa\\appdata\\roaming\\python\\python312\\site-packages (from lightgbm) (1.26.4)\n",
      "Requirement already satisfied: scipy in c:\\users\\haswa\\appdata\\roaming\\python\\python312\\site-packages (from lightgbm) (1.12.0)\n",
      "Downloading lightgbm-4.6.0-py3-none-win_amd64.whl (1.5 MB)\n",
      "   ---------------------------------------- 0.0/1.5 MB ? eta -:--:--\n",
      "   --------------------- ------------------ 0.8/1.5 MB 4.8 MB/s eta 0:00:01\n",
      "   ---------------------------------------- 1.5/1.5 MB 5.1 MB/s eta 0:00:00\n",
      "Installing collected packages: lightgbm\n",
      "Successfully installed lightgbm-4.6.0\n"
     ]
    }
   ],
   "source": [
    "!pip install lightgbm\n"
   ]
  },
  {
   "cell_type": "code",
   "execution_count": 37,
   "id": "a0d183cf-2ec4-4a33-baa2-d93dac844dbe",
   "metadata": {},
   "outputs": [
    {
     "name": "stdout",
     "output_type": "stream",
     "text": [
      "Train shape: (67200, 4)\n",
      "Test shape: (5900, 4)\n",
      "Transactions shape: (2266100, 11)\n"
     ]
    },
    {
     "data": {
      "text/html": [
       "<div>\n",
       "<style scoped>\n",
       "    .dataframe tbody tr th:only-of-type {\n",
       "        vertical-align: middle;\n",
       "    }\n",
       "\n",
       "    .dataframe tbody tr th {\n",
       "        vertical-align: top;\n",
       "    }\n",
       "\n",
       "    .dataframe thead th {\n",
       "        text-align: right;\n",
       "    }\n",
       "</style>\n",
       "<table border=\"1\" class=\"dataframe\">\n",
       "  <thead>\n",
       "    <tr style=\"text-align: right;\">\n",
       "      <th></th>\n",
       "      <th>route_key</th>\n",
       "      <th>doj</th>\n",
       "      <th>srcid</th>\n",
       "      <th>destid</th>\n",
       "    </tr>\n",
       "  </thead>\n",
       "  <tbody>\n",
       "    <tr>\n",
       "      <th>0</th>\n",
       "      <td>2025-02-11_46_45</td>\n",
       "      <td>2025-02-11</td>\n",
       "      <td>46</td>\n",
       "      <td>45</td>\n",
       "    </tr>\n",
       "    <tr>\n",
       "      <th>1</th>\n",
       "      <td>2025-01-20_17_23</td>\n",
       "      <td>2025-01-20</td>\n",
       "      <td>17</td>\n",
       "      <td>23</td>\n",
       "    </tr>\n",
       "    <tr>\n",
       "      <th>2</th>\n",
       "      <td>2025-01-08_02_14</td>\n",
       "      <td>2025-01-08</td>\n",
       "      <td>2</td>\n",
       "      <td>14</td>\n",
       "    </tr>\n",
       "    <tr>\n",
       "      <th>3</th>\n",
       "      <td>2025-01-08_08_47</td>\n",
       "      <td>2025-01-08</td>\n",
       "      <td>8</td>\n",
       "      <td>47</td>\n",
       "    </tr>\n",
       "    <tr>\n",
       "      <th>4</th>\n",
       "      <td>2025-01-08_09_46</td>\n",
       "      <td>2025-01-08</td>\n",
       "      <td>9</td>\n",
       "      <td>46</td>\n",
       "    </tr>\n",
       "  </tbody>\n",
       "</table>\n",
       "</div>"
      ],
      "text/plain": [
       "          route_key         doj  srcid  destid\n",
       "0  2025-02-11_46_45  2025-02-11     46      45\n",
       "1  2025-01-20_17_23  2025-01-20     17      23\n",
       "2  2025-01-08_02_14  2025-01-08      2      14\n",
       "3  2025-01-08_08_47  2025-01-08      8      47\n",
       "4  2025-01-08_09_46  2025-01-08      9      46"
      ]
     },
     "execution_count": 37,
     "metadata": {},
     "output_type": "execute_result"
    }
   ],
   "source": [
    "import pandas as pd \n",
    "train = pd.read_csv('D:/red_bus/train.csv')\n",
    "test = pd.read_csv('D:/red_bus/test.csv')\n",
    "transactions = pd.read_csv('D:/red_bus/transactions.csv')\n",
    "\n",
    "print(\"Train shape:\", train.shape)\n",
    "print(\"Test shape:\", test.shape)\n",
    "print(\"Transactions shape:\", transactions.shape)\n",
    "\n",
    "train.head()\n",
    "test.head()"
   ]
  },
  {
   "cell_type": "code",
   "execution_count": 17,
   "id": "e38e699f-cef4-4eee-979f-8d1c9dab4ca1",
   "metadata": {},
   "outputs": [],
   "source": [
    "train_merged = pd.merge(train, agg_features, on=['doj', 'srcid', 'destid'], how='left')\n",
    "test_merged = pd.merge(test, agg_features, on=['doj', 'srcid', 'destid'], how='left')\n",
    "\n"
   ]
  },
  {
   "cell_type": "code",
   "execution_count": 19,
   "id": "808759ee-4534-4a0c-8f92-50073c4abe8f",
   "metadata": {},
   "outputs": [],
   "source": [
    "train_merged['doj'] = pd.to_datetime(train_merged['doj'])\n",
    "test_merged['doj'] = pd.to_datetime(test_merged['doj'])\n",
    "\n",
    "for df in [train_merged, test_merged]:\n",
    "    df['dayofweek'] = df['doj'].dt.dayofweek\n",
    "    df['month'] = df['doj'].dt.month\n",
    "    df['is_weekend'] = df['dayofweek'].isin([5, 6]).astype(int)\n"
   ]
  },
  {
   "cell_type": "code",
   "execution_count": 63,
   "id": "e5e93c7a-fffa-4c59-b2e3-d2d62bbfd83c",
   "metadata": {},
   "outputs": [
    {
     "name": "stdout",
     "output_type": "stream",
     "text": [
      "[LightGBM] [Info] Auto-choosing row-wise multi-threading, the overhead of testing was 0.001016 seconds.\n",
      "You can set `force_row_wise=true` to remove the overhead.\n",
      "And if memory is not enough, you can set `force_col_wise=true`.\n",
      "[LightGBM] [Info] Total Bins 624\n",
      "[LightGBM] [Info] Number of data points in the train set: 53760, number of used features: 7\n",
      "[LightGBM] [Info] Start training from score 2003.632533\n",
      "Validation RMSE: 479.5103657810975\n"
     ]
    }
   ],
   "source": []
  },
  {
   "cell_type": "code",
   "execution_count": 35,
   "id": "b9507a83-e26f-41af-bab3-5cf7afe472a7",
   "metadata": {},
   "outputs": [
    {
     "name": "stdout",
     "output_type": "stream",
     "text": [
      "Submission saved to submission_file.csv\n"
     ]
    }
   ],
   "source": [
    "test_preds = model.predict(test_merged[features])\n",
    "\n",
    "submission = pd.DataFrame({\n",
    "    'route_key': test['route_key'],\n",
    "    'final_seatcount': test_preds\n",
    "})\n",
    "\n",
    "submission.to_csv('submission_file.csv', index=False)\n",
    "print(\"Submission saved to submission_file.csv\")\n"
   ]
  }
 ],
 "metadata": {
  "kernelspec": {
   "display_name": "Python 3 (ipykernel)",
   "language": "python",
   "name": "python3"
  },
  "language_info": {
   "codemirror_mode": {
    "name": "ipython",
    "version": 3
   },
   "file_extension": ".py",
   "mimetype": "text/x-python",
   "name": "python",
   "nbconvert_exporter": "python",
   "pygments_lexer": "ipython3",
   "version": "3.12.4"
  }
 },
 "nbformat": 4,
 "nbformat_minor": 5
}
